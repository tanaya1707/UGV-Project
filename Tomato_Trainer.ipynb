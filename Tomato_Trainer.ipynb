{
 "cells": [
  {
   "cell_type": "markdown",
   "id": "a8288f39",
   "metadata": {},
   "source": [
    "# Neural Network Model Trainer \n",
    "This notebook is used to define a Deep Learning model for any application and save its parameters. This is done in steps:\n",
    "1. Defining input data and output data\n",
    "2. Splitting into train, dev/validation and test sets\n",
    "3. Defining initial hyperparameters\n",
    "4. Training an initial model\n",
    "5. Testing the model on dev/validation sets and tuning hyperparameters\n",
    "6. Saving the final model parameters"
   ]
  },
  {
   "cell_type": "markdown",
   "id": "d4d77fbb",
   "metadata": {},
   "source": [
    "**Note:** Only code that is enclosed in the following format can be edited:"
   ]
  },
  {
   "cell_type": "code",
   "execution_count": 1,
   "id": "87f4e539",
   "metadata": {},
   "outputs": [],
   "source": [
    "#-------------------------------------#\n",
    "#You can edit the code here\n",
    "#-------------------------------------#"
   ]
  },
  {
   "cell_type": "markdown",
   "id": "f9aca1e3",
   "metadata": {},
   "source": [
    "Importing dependencies:"
   ]
  },
  {
   "cell_type": "code",
   "execution_count": 2,
   "id": "d2b340d9",
   "metadata": {},
   "outputs": [],
   "source": [
    "import numpy as np\n",
    "import tensorflow as tf\n",
    "import matplotlib.pyplot as plt\n",
    "import pandas as pd\n",
    "from IPython.display import clear_output\n",
    "import pickle"
   ]
  },
  {
   "cell_type": "markdown",
   "id": "217df9e4",
   "metadata": {},
   "source": [
    "Importing neural network modeler:"
   ]
  },
  {
   "cell_type": "code",
   "execution_count": 12,
   "id": "6323a5c8",
   "metadata": {},
   "outputs": [],
   "source": [
    "from neural_network import initialize_parameters, forward_propagate, compute_cost, model_train, predict, compute_accuracy"
   ]
  },
  {
   "cell_type": "markdown",
   "id": "dd4aa1ae",
   "metadata": {},
   "source": [
    "## 1) Define Input and Output Data:"
   ]
  },
  {
   "cell_type": "markdown",
   "id": "f4d02198",
   "metadata": {},
   "source": [
    "Format the Dataset as required:"
   ]
  },
  {
   "cell_type": "code",
   "execution_count": 4,
   "id": "140080e6",
   "metadata": {},
   "outputs": [],
   "source": [
    "#-----------------------------------------------------\n",
    "Data = np.load(\"tomato_data_1000yes_1350no.npy\")\n",
    "Data = Data.T\n",
    "Data = pd.DataFrame(Data)\n",
    "Dataset = Data.sample(frac = 1) #Shuffles the dataset\n",
    "Dataset = Dataset.to_numpy() #Converts to numpy array\n",
    "Dataset = Dataset.T\n",
    "#-----------------------------------------------------"
   ]
  },
  {
   "cell_type": "markdown",
   "id": "7ca45291",
   "metadata": {},
   "source": [
    "Define X (input) and Y (output): "
   ]
  },
  {
   "cell_type": "code",
   "execution_count": 5,
   "id": "f8b880ad",
   "metadata": {},
   "outputs": [
    {
     "data": {
      "text/plain": [
       "((196608, 2350), (1, 2350))"
      ]
     },
     "execution_count": 5,
     "metadata": {},
     "output_type": "execute_result"
    }
   ],
   "source": [
    "#--------------------------------------------------------\n",
    "X = np.array(Dataset[1:])\n",
    "X = X.reshape(X.shape[-2], X.shape[-1])\n",
    "\n",
    "Y = np.array([Dataset[0]])\n",
    "Y = Y.reshape(Y.shape[-2], Y.shape[-1])\n",
    "#--------------------------------------------------------\n",
    "\n",
    "m = X.shape[1]\n",
    "X.shape, Y.shape"
   ]
  },
  {
   "cell_type": "markdown",
   "id": "2f7a6bf1",
   "metadata": {},
   "source": [
    "## 2) Split into Train, Dev and Test sets:"
   ]
  },
  {
   "cell_type": "markdown",
   "id": "97419dbe",
   "metadata": {},
   "source": [
    "Define the splitting ratios (Sum of ratios should be 1 for model to work):"
   ]
  },
  {
   "cell_type": "code",
   "execution_count": 6,
   "id": "898d05f4",
   "metadata": {},
   "outputs": [],
   "source": [
    "#-------------------------------\n",
    "train = 0.8\n",
    "dev = 0.1\n",
    "test = 0.1\n",
    "#-------------------------------\n",
    "\n",
    "train_length = round(train*m)\n",
    "dev_length = round(dev*m)"
   ]
  },
  {
   "cell_type": "markdown",
   "id": "3057abec",
   "metadata": {},
   "source": [
    "Forming the splits:"
   ]
  },
  {
   "cell_type": "code",
   "execution_count": 7,
   "id": "ed788367",
   "metadata": {},
   "outputs": [
    {
     "data": {
      "text/plain": [
       "(1880, 235)"
      ]
     },
     "execution_count": 7,
     "metadata": {},
     "output_type": "execute_result"
    }
   ],
   "source": [
    "X_train, X_dev, X_test = np.split(X, [train_length, dev_length + train_length], axis = 1)\n",
    "Y_train, Y_dev, Y_test = np.split(Y, [train_length, dev_length + train_length], axis = 1)\n",
    "\n",
    "train_length, dev_length"
   ]
  },
  {
   "cell_type": "markdown",
   "id": "7da8cd40",
   "metadata": {},
   "source": [
    "Normalizing:"
   ]
  },
  {
   "cell_type": "code",
   "execution_count": 8,
   "id": "c75f9520",
   "metadata": {},
   "outputs": [],
   "source": [
    "mean = np.mean(X_train, axis = 1, keepdims = True)\n",
    "std = np.std(X_train, axis = 1, keepdims = True)\n",
    "X_train = (X_train - mean)/std\n",
    "X_dev = (X_dev - mean)/std\n",
    "X_test = (X_test - mean)/std"
   ]
  },
  {
   "cell_type": "markdown",
   "id": "5f21c4f0",
   "metadata": {},
   "source": [
    "Convert Data into Tensors:"
   ]
  },
  {
   "cell_type": "code",
   "execution_count": 9,
   "id": "b34e78da",
   "metadata": {},
   "outputs": [],
   "source": [
    "X_train = tf.constant(X_train)\n",
    "X_dev = tf.constant(X_dev)\n",
    "X_test = tf.constant(X_test)\n",
    "Y_train = tf.constant(Y_train)\n",
    "Y_dev = tf.constant(Y_dev)\n",
    "Y_test = tf.constant(Y_test)"
   ]
  },
  {
   "cell_type": "markdown",
   "id": "fc2b3799",
   "metadata": {},
   "source": [
    "## 3) Define Hyperparameters:"
   ]
  },
  {
   "cell_type": "code",
   "execution_count": 20,
   "id": "ea7416f3",
   "metadata": {},
   "outputs": [],
   "source": [
    "#---------------------------------------------------------\n",
    "num_layers = 6 #Number of layers in the neural network (excluding input layer)\n",
    "\n",
    "num_nodes = [X.shape[0], 5, 10, 20, 10, 5, Y.shape[0]]\n",
    "\n",
    "learning_rate = 0.03\n",
    "num_epochs = 200\n",
    "print_cost_per_epoch = 10\n",
    "initializer = tf.keras.initializers.GlorotNormal()\n",
    "\n",
    "#Activation functions:\n",
    "linear = tf.keras.activations.linear\n",
    "sigmoid = tf.keras.activations.sigmoid\n",
    "relu = tf.keras.activations.relu\n",
    "\n",
    "#----------------------------------------------------#\n",
    "activations = {}\n",
    "for i in range(1, num_layers):\n",
    "    activations['L' + str(i)] = relu\n",
    "activations['L' + str(num_layers)] = sigmoid\n",
    "#----------------------------------------------------#\n",
    "    \n",
    "#activations now are (linear-->relu)x5 + linear-->sigmoid\n",
    "\n",
    "loss_function = tf.keras.losses.BinaryCrossentropy()\n",
    "optimizer = tf.keras.optimizers.SGD(learning_rate)\n",
    "accuracy = tf.keras.metrics.BinaryAccuracy()"
   ]
  },
  {
   "cell_type": "markdown",
   "id": "72d2f1d4",
   "metadata": {},
   "source": [
    "## 4) Train a Model from most recent Hyperparameters:"
   ]
  },
  {
   "cell_type": "code",
   "execution_count": 11,
   "id": "4bc43b7d",
   "metadata": {
    "scrolled": false
   },
   "outputs": [
    {
     "name": "stdout",
     "output_type": "stream",
     "text": [
      "Cost at epoch 200  =  0.027802441269159317\n"
     ]
    },
    {
     "data": {
      "image/png": "[encoded data removed]",
      "text/plain": [
       "<Figure size 432x288 with 1 Axes>"
      ]
     },
     "metadata": {
      "needs_background": "light"
     },
     "output_type": "display_data"
    }
   ],
   "source": [
    "params, cost = model_train(X_train, Y_train, num_layers, num_nodes, learning_rate, num_epochs, initializer, activations, \n",
    "                           loss_function, optimizer, print_cost_per_epoch)"
   ]
  },
  {
   "cell_type": "markdown",
   "id": "d09b9fd7",
   "metadata": {},
   "source": [
    "## 5) Model Testing:"
   ]
  },
  {
   "cell_type": "markdown",
   "id": "9ba04d36",
   "metadata": {},
   "source": [
    "Generate prediction tensors on train set and dev set:"
   ]
  },
  {
   "cell_type": "code",
   "execution_count": 17,
   "id": "faf27f5d",
   "metadata": {},
   "outputs": [],
   "source": [
    "train_prediction = predict(X_train, num_layers, params, activations)\n",
    "dev_prediction = predict(X_dev, num_layers, params, activations)\n",
    "test_prediction = predict(X_test, num_layers, params, activations)"
   ]
  },
  {
   "cell_type": "markdown",
   "id": "4cfeaf9d",
   "metadata": {},
   "source": [
    "Compute Accuracy on train set and dev set:"
   ]
  },
  {
   "cell_type": "code",
   "execution_count": 18,
   "id": "a743ea8e",
   "metadata": {},
   "outputs": [
    {
     "name": "stdout",
     "output_type": "stream",
     "text": [
      "Train set accuracy =  99.6 %\n",
      "Dev set accuracy =  90.2 %\n",
      "Test set accuracy =  88.9 %\n"
     ]
    }
   ],
   "source": [
    "train_accuracy = compute_accuracy(train_prediction, Y_train)\n",
    "dev_accuracy = compute_accuracy(dev_prediction, Y_dev)\n",
    "test_accuracy = compute_accuracy(test_prediction, Y_test)\n",
    "\n",
    "print(\"Train set accuracy = \", train_accuracy, \"%\")\n",
    "print(\"Dev set accuracy = \", dev_accuracy, \"%\")\n",
    "print(\"Test set accuracy = \", test_accuracy, \"%\")"
   ]
  },
  {
   "cell_type": "markdown",
   "id": "bec84987",
   "metadata": {},
   "source": [
    "## 6) Save Model Parameters:"
   ]
  },
  {
   "cell_type": "markdown",
   "id": "216bd17f",
   "metadata": {},
   "source": [
    "Saving weights to a binary file:"
   ]
  },
  {
   "cell_type": "code",
   "execution_count": 86,
   "id": "313f6fba",
   "metadata": {},
   "outputs": [],
   "source": [
    "np.save('iteration_1_weights', params)"
   ]
  },
  {
   "cell_type": "markdown",
   "id": "1ab7ea9b",
   "metadata": {},
   "source": [
    "Loading weights from a file:"
   ]
  },
  {
   "cell_type": "code",
   "execution_count": 105,
   "id": "8ea36d41",
   "metadata": {},
   "outputs": [],
   "source": [
    "# save np.load\n",
    "np_load_old = np.load\n",
    "\n",
    "# modify the default parameters of np.load\n",
    "np.load = lambda *a,**k: np_load_old(*a, allow_pickle=True, **k)\n",
    "\n",
    "weights = np.load(\"iteration_1_weights.npy\")\n",
    "weights = weights[()]\n",
    "\n",
    "# restore np.load for future normal usage\n",
    "np.load = np_load_old"
   ]
  }
 ],
 "metadata": {
  "kernelspec": {
   "display_name": "DL",
   "language": "python",
   "name": "dl"
  },
  "language_info": {
   "codemirror_mode": {
    "name": "ipython",
    "version": 3
   },
   "file_extension": ".py",
   "mimetype": "text/x-python",
   "name": "python",
   "nbconvert_exporter": "python",
   "pygments_lexer": "ipython3",
   "version": "3.8.8"
  }
 },
 "nbformat": 4,
 "nbformat_minor": 5
}
