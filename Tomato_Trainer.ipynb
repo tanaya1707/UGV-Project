{
 "cells": [
  {
   "cell_type": "markdown",
   "id": "a8288f39",
   "metadata": {},
   "source": [
    "# Neural Network Model Trainer \n",
    "This notebook is used to define a Deep Learning model for any application and save its parameters. This is done in steps:\n",
    "1. Defining input data and output data\n",
    "2. Splitting into train, dev/validation and test sets\n",
    "3. Defining initial hyperparameters\n",
    "4. Training an initial model\n",
    "5. Testing the model on dev/validation sets and tuning hyperparameters\n",
    "6. Saving the final model parameters"
   ]
  },
  {
   "cell_type": "markdown",
   "id": "d4d77fbb",
   "metadata": {},
   "source": [
    "**Note:** Only code that is enclosed in the following format can be edited:"
   ]
  },
  {
   "cell_type": "code",
   "execution_count": 1,
   "id": "87f4e539",
   "metadata": {},
   "outputs": [],
   "source": [
    "#-------------------------------------#\n",
    "#You can edit the code here\n",
    "#-------------------------------------#"
   ]
  },
  {
   "cell_type": "markdown",
   "id": "f9aca1e3",
   "metadata": {},
   "source": [
    "Importing dependencies:"
   ]
  },
  {
   "cell_type": "code",
   "execution_count": 2,
   "id": "d2b340d9",
   "metadata": {},
   "outputs": [],
   "source": [
    "import numpy as np\n",
    "import tensorflow as tf\n",
    "import matplotlib.pyplot as plt\n",
    "import pandas as pd\n",
    "from IPython.display import clear_output\n",
    "import pickle\n",
    "import time"
   ]
  },
  {
   "cell_type": "markdown",
   "id": "217df9e4",
   "metadata": {},
   "source": [
    "Importing neural network modeler:"
   ]
  },
  {
   "cell_type": "code",
   "execution_count": 3,
   "id": "6323a5c8",
   "metadata": {},
   "outputs": [],
   "source": [
    "from neural_network import initialize_parameters, dropout_regularize, forward_propagate, compute_cost \n",
    "from neural_network import model_train, predict, compute_accuracy, compute_precision"
   ]
  },
  {
   "cell_type": "markdown",
   "id": "dd4aa1ae",
   "metadata": {},
   "source": [
    "## 1) Define Input and Output Data:"
   ]
  },
  {
   "cell_type": "markdown",
   "id": "f4d02198",
   "metadata": {},
   "source": [
    "Format the Dataset as required:"
   ]
  },
  {
   "cell_type": "code",
   "execution_count": 4,
   "id": "140080e6",
   "metadata": {},
   "outputs": [],
   "source": [
    "#-----------------------------------------------------\n",
    "Data = np.load(\"tomato_data_1000yes_2250no.npy\")\n",
    "Data = Data.T\n",
    "Data = pd.DataFrame(Data)\n",
    "Dataset = Data.sample(frac = 1) #Shuffles the dataset\n",
    "Dataset = Dataset.to_numpy() #Converts to numpy array\n",
    "Dataset = Dataset.T\n",
    "#-----------------------------------------------------"
   ]
  },
  {
   "cell_type": "markdown",
   "id": "7ca45291",
   "metadata": {},
   "source": [
    "Define X (input) and Y (output): "
   ]
  },
  {
   "cell_type": "code",
   "execution_count": 5,
   "id": "f8b880ad",
   "metadata": {},
   "outputs": [
    {
     "data": {
      "text/plain": [
       "((196608, 3250), (1, 3250))"
      ]
     },
     "execution_count": 5,
     "metadata": {},
     "output_type": "execute_result"
    }
   ],
   "source": [
    "#--------------------------------------------------------\n",
    "X = np.array(Dataset[1:])\n",
    "X = X.reshape(X.shape[-2], X.shape[-1])\n",
    "\n",
    "Y = np.array([Dataset[0]])\n",
    "Y = Y.reshape(Y.shape[-2], Y.shape[-1])\n",
    "#--------------------------------------------------------\n",
    "\n",
    "m = X.shape[1]\n",
    "X.shape, Y.shape"
   ]
  },
  {
   "cell_type": "markdown",
   "id": "2f7a6bf1",
   "metadata": {},
   "source": [
    "## 2) Split into Train, Dev and Test sets:"
   ]
  },
  {
   "cell_type": "markdown",
   "id": "97419dbe",
   "metadata": {},
   "source": [
    "Define the splitting ratios (Sum of ratios should be 1 for model to work):"
   ]
  },
  {
   "cell_type": "code",
   "execution_count": 6,
   "id": "898d05f4",
   "metadata": {},
   "outputs": [],
   "source": [
    "#-------------------------------\n",
    "train = 0.8\n",
    "dev = 0.1\n",
    "test = 0.1\n",
    "#-------------------------------\n",
    "\n",
    "train_length = round(train*m)\n",
    "dev_length = round(dev*m)"
   ]
  },
  {
   "cell_type": "markdown",
   "id": "3057abec",
   "metadata": {},
   "source": [
    "Forming the splits:"
   ]
  },
  {
   "cell_type": "code",
   "execution_count": 7,
   "id": "ed788367",
   "metadata": {},
   "outputs": [
    {
     "data": {
      "text/plain": [
       "(2600, 325)"
      ]
     },
     "execution_count": 7,
     "metadata": {},
     "output_type": "execute_result"
    }
   ],
   "source": [
    "X_train, X_dev, X_test = np.split(X, [train_length, dev_length + train_length], axis = 1)\n",
    "Y_train, Y_dev, Y_test = np.split(Y, [train_length, dev_length + train_length], axis = 1)\n",
    "\n",
    "train_length, dev_length"
   ]
  },
  {
   "cell_type": "markdown",
   "id": "7da8cd40",
   "metadata": {},
   "source": [
    "Normalizing:"
   ]
  },
  {
   "cell_type": "code",
   "execution_count": 8,
   "id": "c75f9520",
   "metadata": {},
   "outputs": [],
   "source": [
    "mean = np.mean(X_train, axis = 1, keepdims = True)\n",
    "std = np.std(X_train, axis = 1, keepdims = True)\n",
    "X_train = (X_train - mean)/std\n",
    "X_dev = (X_dev - mean)/std\n",
    "X_test = (X_test - mean)/std"
   ]
  },
  {
   "cell_type": "markdown",
   "id": "5f21c4f0",
   "metadata": {},
   "source": [
    "Convert Data into Tensors:"
   ]
  },
  {
   "cell_type": "code",
   "execution_count": 9,
   "id": "b34e78da",
   "metadata": {},
   "outputs": [],
   "source": [
    "X_train = tf.constant(X_train)\n",
    "X_dev = tf.constant(X_dev)\n",
    "X_test = tf.constant(X_test)\n",
    "Y_train = tf.constant(Y_train)\n",
    "Y_dev = tf.constant(Y_dev)\n",
    "Y_test = tf.constant(Y_test)"
   ]
  },
  {
   "cell_type": "markdown",
   "id": "fc2b3799",
   "metadata": {},
   "source": [
    "## 3) Define Hyperparameters:"
   ]
  },
  {
   "cell_type": "code",
   "execution_count": 10,
   "id": "ea7416f3",
   "metadata": {},
   "outputs": [],
   "source": [
    "#---------------------------------------------------------\n",
    "num_layers = 6 #Number of layers in the neural network (excluding input layer)\n",
    "\n",
    "num_nodes = [X.shape[0], 5, 10, 20, 10, 5, Y.shape[0]]\n",
    "\n",
    "learning_rate = 0.003\n",
    "num_epochs = 500\n",
    "print_cost = True\n",
    "print_cost_per_epoch = 1\n",
    "initializer = tf.keras.initializers.GlorotNormal()\n",
    "\n",
    "#Activation functions:\n",
    "linear = tf.keras.activations.linear\n",
    "sigmoid = tf.keras.activations.sigmoid\n",
    "relu = tf.keras.activations.relu\n",
    "\n",
    "#----------------------------------------------------#\n",
    "activations = {}\n",
    "for i in range(1, num_layers):\n",
    "    activations['L' + str(i)] = relu\n",
    "activations['L' + str(num_layers)] = sigmoid\n",
    "#----------------------------------------------------#\n",
    "\n",
    "dropout_probs = [1, 0.8, 0.8, 0.8, 0.8, 0.8, 1]\n",
    "    \n",
    "#activations now are (linear-->relu)x5 + linear-->sigmoid\n",
    "\n",
    "loss_function = tf.keras.losses.BinaryCrossentropy()\n",
    "optimizer = tf.keras.optimizers.Adam(learning_rate)\n",
    "accuracy = tf.keras.metrics.BinaryAccuracy()"
   ]
  },
  {
   "cell_type": "markdown",
   "id": "9834cd02",
   "metadata": {},
   "source": [
    "## 4) Train a Model from most recent Hyperparameters:"
   ]
  },
  {
   "cell_type": "code",
   "execution_count": 31,
   "id": "4bc43b7d",
   "metadata": {
    "scrolled": false
   },
   "outputs": [
    {
     "name": "stdout",
     "output_type": "stream",
     "text": [
      "Cost at epoch 500  =  0.017013711854815483\n",
      "Time taken for last  1  epochs =  0.51  seconds\n"
     ]
    },
    {
     "data": {
      "image/png": "[encoded data removed]",
      "text/plain": [
       "<Figure size 432x288 with 1 Axes>"
      ]
     },
     "metadata": {
      "needs_background": "light"
     },
     "output_type": "display_data"
    }
   ],
   "source": [
    "params, cost = model_train(X_train, Y_train, num_layers, num_nodes, num_epochs, dropout_probs, initializer, activations, \n",
    "                           loss_function, optimizer, print_cost, print_cost_per_epoch)"
   ]
  },
  {
   "cell_type": "code",
   "execution_count": 32,
   "id": "288a9a75",
   "metadata": {},
   "outputs": [],
   "source": [
    "params['mean'] = mean\n",
    "params['std'] = std\n",
    "params['activations'] = activations\n",
    "params['num_layers'] = num_layers"
   ]
  },
  {
   "cell_type": "markdown",
   "id": "68326fea",
   "metadata": {},
   "source": [
    "## 5) Model Testing:"
   ]
  },
  {
   "cell_type": "markdown",
   "id": "918d591a",
   "metadata": {},
   "source": [
    "Generate prediction tensors on train set and dev set:"
   ]
  },
  {
   "cell_type": "code",
   "execution_count": 12,
   "id": "faf27f5d",
   "metadata": {},
   "outputs": [],
   "source": [
    "train_prediction = predict(X_train, params, normalize = False)\n",
    "dev_prediction = predict(X_dev, params, normalize = False)\n",
    "test_prediction = predict(X_test, params, normalize = False)"
   ]
  },
  {
   "cell_type": "markdown",
   "id": "47eeace5",
   "metadata": {},
   "source": [
    "Compute Accuracy on train set and dev set:"
   ]
  },
  {
   "cell_type": "code",
   "execution_count": 13,
   "id": "a743ea8e",
   "metadata": {},
   "outputs": [
    {
     "name": "stdout",
     "output_type": "stream",
     "text": [
      "Train set accuracy =  97.6 %\n",
      "Dev set accuracy =  96.89999999999999 %\n",
      "Test set accuracy =  98.5 %\n"
     ]
    }
   ],
   "source": [
    "train_accuracy = compute_accuracy(train_prediction, Y_train)\n",
    "dev_accuracy = compute_accuracy(dev_prediction, Y_dev)\n",
    "test_accuracy = compute_accuracy(test_prediction, Y_test)\n",
    "\n",
    "print(\"Train set accuracy = \", train_accuracy, \"%\")\n",
    "print(\"Dev set accuracy = \", dev_accuracy, \"%\")\n",
    "print(\"Test set accuracy = \", test_accuracy, \"%\")"
   ]
  },
  {
   "cell_type": "markdown",
   "id": "91d8a4c9",
   "metadata": {},
   "source": [
    "Compute Precision on train set and dev set:"
   ]
  },
  {
   "cell_type": "code",
   "execution_count": 14,
   "id": "1efdfcb6",
   "metadata": {},
   "outputs": [
    {
     "name": "stdout",
     "output_type": "stream",
     "text": [
      "Train set precision =  95.97 %\n",
      "Dev set precision =  96.81 %\n",
      "Test set precision =  98.15 %\n"
     ]
    }
   ],
   "source": [
    "train_precision = compute_precision(train_prediction, Y_train)\n",
    "dev_precision = compute_precision(dev_prediction, Y_dev)\n",
    "test_precision = compute_precision(test_prediction, Y_test)\n",
    "\n",
    "print(\"Train set precision = \", train_precision, \"%\")\n",
    "print(\"Dev set precision = \", dev_precision, \"%\")\n",
    "print(\"Test set precision = \", test_precision, \"%\")"
   ]
  },
  {
   "cell_type": "markdown",
   "id": "ca3540f1",
   "metadata": {},
   "source": [
    "## 6) Save Model Parameters:"
   ]
  },
  {
   "cell_type": "markdown",
   "id": "fea11aa9",
   "metadata": {},
   "source": [
    "Saving weights to a binary file:"
   ]
  },
  {
   "cell_type": "code",
   "execution_count": 45,
   "id": "fad9c8e0",
   "metadata": {},
   "outputs": [],
   "source": [
    "np.save(\"iteration_3_weights\", params)"
   ]
  },
  {
   "cell_type": "markdown",
   "id": "1ab7ea9b",
   "metadata": {},
   "source": [
    "Loading weights from a file:"
   ]
  },
  {
   "cell_type": "code",
   "execution_count": 16,
   "id": "8ea36d41",
   "metadata": {},
   "outputs": [],
   "source": [
    "# save np.load\n",
    "np_load_old = np.load\n",
    "\n",
    "# modify the default parameters of np.load\n",
    "np.load = lambda *a,**k: np_load_old(*a, allow_pickle=True, **k)\n",
    "\n",
    "weights = np.load(\"iteration_3_weights.npy\")\n",
    "weights = weights[()]\n",
    "\n",
    "# restore np.load for future normal usage\n",
    "np.load = np_load_old"
   ]
  },
  {
   "cell_type": "markdown",
   "id": "78fe4a1a",
   "metadata": {},
   "source": [
    "Precision on imported weights:"
   ]
  },
  {
   "cell_type": "code",
   "execution_count": 20,
   "id": "c767f9e2",
   "metadata": {},
   "outputs": [],
   "source": [
    "train_prediction = predict(X_train, weights, normalize = False)\n",
    "dev_prediction = predict(X_dev, weights, normalize = False)\n",
    "test_prediction = predict(X_test, weights, normalize = False)"
   ]
  },
  {
   "cell_type": "code",
   "execution_count": 21,
   "id": "e407a737",
   "metadata": {},
   "outputs": [
    {
     "name": "stdout",
     "output_type": "stream",
     "text": [
      "Train set precision =  95.97 %\n",
      "Dev set precision =  96.81 %\n",
      "Test set precision =  98.15 %\n"
     ]
    }
   ],
   "source": [
    "train_precision = compute_precision(train_prediction, Y_train)\n",
    "dev_precision = compute_precision(dev_prediction, Y_dev)\n",
    "test_precision = compute_precision(test_prediction, Y_test)\n",
    "\n",
    "print(\"Train set precision = \", train_precision, \"%\")\n",
    "print(\"Dev set precision = \", dev_precision, \"%\")\n",
    "print(\"Test set precision = \", test_precision, \"%\")"
   ]
  },
  {
   "cell_type": "markdown",
   "id": "d10788af",
   "metadata": {},
   "source": [
    "Precision on full dataset:"
   ]
  },
  {
   "cell_type": "code",
   "execution_count": 18,
   "id": "fcb9a109",
   "metadata": {},
   "outputs": [],
   "source": [
    "X_full = tf.constant(X)\n",
    "Y_full = tf.constant(Y)\n",
    "\n",
    "prediction = predict(X_full, weights)"
   ]
  },
  {
   "cell_type": "code",
   "execution_count": 19,
   "id": "ec8aa3d1",
   "metadata": {},
   "outputs": [
    {
     "data": {
      "text/plain": [
       "96.29"
      ]
     },
     "execution_count": 19,
     "metadata": {},
     "output_type": "execute_result"
    }
   ],
   "source": [
    "compute_precision(prediction, Y_full)"
   ]
  }
 ],
 "metadata": {
  "kernelspec": {
   "display_name": "DL",
   "language": "python",
   "name": "dl"
  },
  "language_info": {
   "codemirror_mode": {
    "name": "ipython",
    "version": 3
   },
   "file_extension": ".py",
   "mimetype": "text/x-python",
   "name": "python",
   "nbconvert_exporter": "python",
   "pygments_lexer": "ipython3",
   "version": "3.8.8"
  }
 },
 "nbformat": 4,
 "nbformat_minor": 5
}
