{
  "nbformat": 4,
  "nbformat_minor": 0,
  "metadata": {
    "colab": {
      "name": "Tomato_segmentation.ipynb",
      "provenance": [],
      "collapsed_sections": []
    },
    "kernelspec": {
      "name": "python3",
      "display_name": "Python 3"
    },
    "language_info": {
      "name": "python"
    }
  },
  "cells": [
    {
      "cell_type": "code",
      "metadata": {
        "id": "Ecc9Alg0nnE6"
      },
      "source": [
        "import numpy as np\n",
        "import cv2 as cv\n",
        "from matplotlib import pyplot as plt\n",
        "from google.colab.patches import cv2_imshow\n",
        "import PIL\n",
        "import os\n",
        "from PIL import Image"
      ],
      "execution_count": null,
      "outputs": []
    },
    {
      "cell_type": "code",
      "metadata": {
        "colab": {
          "base_uri": "https://localhost:8080/"
        },
        "id": "Mpss_9sKBfKS",
        "outputId": "94fc7eb7-ba85-488f-89ee-9aa25d8a0d99"
      },
      "source": [
        "from google.colab import drive\n",
        "drive.mount('/content/drive')"
      ],
      "execution_count": null,
      "outputs": [
        {
          "output_type": "stream",
          "text": [
            "Drive already mounted at /content/drive; to attempt to forcibly remount, call drive.mount(\"/content/drive\", force_remount=True).\n"
          ],
          "name": "stdout"
        }
      ]
    },
    {
      "cell_type": "code",
      "metadata": {
        "id": "nH8G6Q5mqVXL"
      },
      "source": [
        "#Enter directory from which images are to be segmented\n",
        "directory= '/content/drive/MyDrive/UGV_AI/tomato/val'\n",
        "#Traverse each file in the directory\n",
        "for filename in os.listdir(directory):\n",
        "  print(filename)\n",
        "  c= 0\n",
        "  for f in os.listdir(directory + '/' + filename):\n",
        "        #Initialize counter to name the images\n",
        "        c= int(c)\n",
        "        c= c+ 1\n",
        "        c= str(c)\n",
        "        path= directory + '/' + filename + '/' + f\n",
        "        print(path)\n",
        "        #Read each image\n",
        "        image= cv.imread(path)\n",
        "        gray = cv.cvtColor(image,cv.COLOR_BGR2GRAY)\n",
        "        #Otsu's thresholding\n",
        "        ret, thresh = cv.threshold(gray,0,255,cv.THRESH_BINARY_INV+cv.THRESH_OTSU)\n",
        "        #Noise removal\n",
        "        kernel = np.ones((2,2),np.uint8)\n",
        "        opening = cv.morphologyEx(thresh,cv.MORPH_CLOSE,kernel, iterations = 2)\n",
        "        opening= np.uint8(opening)\n",
        "        #Erosion\n",
        "        sure_fg = cv.erode(opening,kernel,iterations=2)\n",
        "        sure_fg = np.uint8(sure_fg)\n",
        "        #Apply watershed algorithm\n",
        "        ret, markers = cv.connectedComponents(sure_fg)\n",
        "        markers= markers+1\n",
        "        markers= cv.watershed(image,markers)\n",
        "        image[markers == 1] = [0, 0, 0]\n",
        "        cv2_imshow(image)\n",
        "        #Save the images in the given path\n",
        "        path= '/content/drive/MyDrive/UGV_AI/tomato/segmented_val' + '/' + filename\n",
        "        cv.imwrite(os.path.join(path , c+ '.jpg'), image)\n"
      ],
      "execution_count": null,
      "outputs": []
    }
  ]
}