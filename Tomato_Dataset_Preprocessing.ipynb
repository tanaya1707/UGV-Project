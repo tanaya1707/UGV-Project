{
 "cells": [
  {
   "cell_type": "markdown",
   "id": "a58a05db",
   "metadata": {},
   "source": [
    "### Dependencies:"
   ]
  },
  {
   "cell_type": "code",
   "execution_count": 1,
   "id": "eef0a6fb",
   "metadata": {},
   "outputs": [],
   "source": [
    "import numpy as np\n",
    "import pandas as pd\n",
    "import cv2\n",
    "import PIL\n",
    "import os\n",
    "import time\n",
    "from PIL import Image\n",
    "from IPython.display import display, clear_output"
   ]
  },
  {
   "cell_type": "markdown",
   "id": "bdfc3cf8",
   "metadata": {},
   "source": [
    "### Collecting Healthy Data:"
   ]
  },
  {
   "cell_type": "code",
   "execution_count": 2,
   "id": "0ac2029c",
   "metadata": {},
   "outputs": [
    {
     "name": "stdout",
     "output_type": "stream",
     "text": [
      "Number of pictures processed =  1000\n"
     ]
    },
    {
     "data": {
      "text/plain": [
       "(196608, 1000)"
      ]
     },
     "execution_count": 2,
     "metadata": {},
     "output_type": "execute_result"
    }
   ],
   "source": [
    "#Edit the directory name to where the healthy tomato leaves are saved:\n",
    "#-----------------------------------------------------#\n",
    "directory = \"Datasets/tomato/train/Tomato___healthy/\"\n",
    "#-----------------------------------------------------#\n",
    "\n",
    "count = 0\n",
    "\n",
    "for filename in os.listdir(directory):\n",
    "    if filename.endswith(\".JPG\"):\n",
    "        image = cv2.imread(directory + filename)\n",
    "        image_vector = np.reshape(image, (image.shape[0] * image.shape[1] * image.shape[2], 1))\n",
    "        if count == 0:\n",
    "            X_healthy = image_vector\n",
    "        else:\n",
    "            X_healthy = np.concatenate((X_healthy, image_vector), axis = 1)\n",
    "        clear_output(wait = True)\n",
    "        print(\"Number of pictures processed = \", count + 1)\n",
    "        count += 1\n",
    "        \n",
    "X_healthy.shape"
   ]
  },
  {
   "cell_type": "markdown",
   "id": "90bc9895",
   "metadata": {},
   "source": [
    "Assign an array of ones as output for healthy data:"
   ]
  },
  {
   "cell_type": "code",
   "execution_count": 3,
   "id": "aae68d4a",
   "metadata": {},
   "outputs": [
    {
     "data": {
      "text/plain": [
       "(1, 1000)"
      ]
     },
     "execution_count": 3,
     "metadata": {},
     "output_type": "execute_result"
    }
   ],
   "source": [
    "Y_healthy = np.ones((1, X_healthy.shape[1]))\n",
    "Y_healthy.shape"
   ]
  },
  {
   "cell_type": "markdown",
   "id": "a2242119",
   "metadata": {},
   "source": [
    "Stack the outputs on top of the inputs:"
   ]
  },
  {
   "cell_type": "code",
   "execution_count": 4,
   "id": "0857caca",
   "metadata": {},
   "outputs": [],
   "source": [
    "Healthy_Data = np.concatenate((Y_healthy, X_healthy), axis = 0)"
   ]
  },
  {
   "cell_type": "markdown",
   "id": "8364be7e",
   "metadata": {},
   "source": [
    "### Collecting Diseased Data:"
   ]
  },
  {
   "cell_type": "code",
   "execution_count": 5,
   "id": "2df5acc2",
   "metadata": {},
   "outputs": [
    {
     "name": "stdout",
     "output_type": "stream",
     "text": [
      "Number of pictures processed =  250\n",
      "9 Directories done\n",
      "DONE\n"
     ]
    },
    {
     "data": {
      "text/plain": [
       "(196608, 2250)"
      ]
     },
     "execution_count": 5,
     "metadata": {},
     "output_type": "execute_result"
    }
   ],
   "source": [
    "#-----------------------------------------------------#\n",
    "directory = \"Datasets/tomato/train/\" #Directory where all datasets are stored\n",
    "num_pictures_per_disease = 250 #Number of pictures to take from each disease\n",
    "#-----------------------------------------------------#\n",
    "\n",
    "count = 0\n",
    "started = 0\n",
    "done = 0\n",
    "\n",
    "for filename in os.listdir(directory):\n",
    "    if filename != \"Tomato___healthy\": #directory where healthy dataset is stored, so that it isn't added to unhealthy dataset\n",
    "        filename = directory + filename + \"/\"\n",
    "        for file in os.listdir(filename):\n",
    "            if (count % num_pictures_per_disease != 0) or count == 0:\n",
    "                image = cv2.imread(filename + file)\n",
    "                image_vector = np.reshape(image, (image.shape[0] * image.shape[1] * image.shape[2], 1))\n",
    "                if started == 0:\n",
    "                    X_diseased = image_vector\n",
    "                    started = 1\n",
    "                else:\n",
    "                    X_diseased = np.concatenate((X_diseased, image_vector), axis = 1)\n",
    "                clear_output(wait = True)\n",
    "                print(\"Number of pictures processed = \", count + 1)\n",
    "                count += 1\n",
    "            else:\n",
    "                done += 1\n",
    "                print(done, \"Directories done\")\n",
    "                count = 0\n",
    "                break\n",
    "    time.sleep(3)\n",
    "    \n",
    "print(\"DONE\")\n",
    "X_diseased.shape"
   ]
  },
  {
   "cell_type": "markdown",
   "id": "eb466714",
   "metadata": {},
   "source": [
    "Assign an array of zeros as output for diseased data:"
   ]
  },
  {
   "cell_type": "code",
   "execution_count": 7,
   "id": "b77b9af7",
   "metadata": {},
   "outputs": [
    {
     "data": {
      "text/plain": [
       "(1, 2250)"
      ]
     },
     "execution_count": 7,
     "metadata": {},
     "output_type": "execute_result"
    }
   ],
   "source": [
    "Y_diseased = np.zeros((1, X_diseased.shape[1]))\n",
    "Y_diseased.shape"
   ]
  },
  {
   "cell_type": "markdown",
   "id": "2a13dfc2",
   "metadata": {},
   "source": [
    "Stack the outputs on top of the inputs:"
   ]
  },
  {
   "cell_type": "code",
   "execution_count": 8,
   "id": "8c598f82",
   "metadata": {},
   "outputs": [],
   "source": [
    "Diseased_Data = np.concatenate((Y_diseased, X_diseased), axis = 0)"
   ]
  },
  {
   "cell_type": "markdown",
   "id": "640c63cc",
   "metadata": {},
   "source": [
    "### Forming the Dataset, Visualizing and Shuffling:"
   ]
  },
  {
   "cell_type": "markdown",
   "id": "ba83344f",
   "metadata": {},
   "source": [
    "Stack the diseased dataset and healthy dataset side by side:"
   ]
  },
  {
   "cell_type": "code",
   "execution_count": 9,
   "id": "97852f74",
   "metadata": {},
   "outputs": [
    {
     "data": {
      "text/plain": [
       "(196609, 3250)"
      ]
     },
     "execution_count": 9,
     "metadata": {},
     "output_type": "execute_result"
    }
   ],
   "source": [
    "Data = np.concatenate((Diseased_Data, Healthy_Data), axis = 1)\n",
    "Data.shape"
   ]
  },
  {
   "cell_type": "markdown",
   "id": "e0b36187",
   "metadata": {},
   "source": [
    "Convert it into a pandas Dataframe, shuffle it and visualize it:"
   ]
  },
  {
   "cell_type": "code",
   "execution_count": 10,
   "id": "2969c550",
   "metadata": {},
   "outputs": [
    {
     "data": {
      "text/html": [
       "<div>\n",
       "<style scoped>\n",
       "    .dataframe tbody tr th:only-of-type {\n",
       "        vertical-align: middle;\n",
       "    }\n",
       "\n",
       "    .dataframe tbody tr th {\n",
       "        vertical-align: top;\n",
       "    }\n",
       "\n",
       "    .dataframe thead th {\n",
       "        text-align: right;\n",
       "    }\n",
       "</style>\n",
       "<table border=\"1\" class=\"dataframe\">\n",
       "  <thead>\n",
       "    <tr style=\"text-align: right;\">\n",
       "      <th></th>\n",
       "      <th>0</th>\n",
       "      <th>1</th>\n",
       "      <th>2</th>\n",
       "      <th>3</th>\n",
       "      <th>4</th>\n",
       "      <th>5</th>\n",
       "      <th>6</th>\n",
       "      <th>7</th>\n",
       "      <th>8</th>\n",
       "      <th>9</th>\n",
       "      <th>...</th>\n",
       "      <th>196599</th>\n",
       "      <th>196600</th>\n",
       "      <th>196601</th>\n",
       "      <th>196602</th>\n",
       "      <th>196603</th>\n",
       "      <th>196604</th>\n",
       "      <th>196605</th>\n",
       "      <th>196606</th>\n",
       "      <th>196607</th>\n",
       "      <th>196608</th>\n",
       "    </tr>\n",
       "  </thead>\n",
       "  <tbody>\n",
       "    <tr>\n",
       "      <th>1823</th>\n",
       "      <td>0.0</td>\n",
       "      <td>137.0</td>\n",
       "      <td>118.0</td>\n",
       "      <td>133.0</td>\n",
       "      <td>134.0</td>\n",
       "      <td>115.0</td>\n",
       "      <td>130.0</td>\n",
       "      <td>101.0</td>\n",
       "      <td>82.0</td>\n",
       "      <td>97.0</td>\n",
       "      <td>...</td>\n",
       "      <td>132.0</td>\n",
       "      <td>134.0</td>\n",
       "      <td>117.0</td>\n",
       "      <td>131.0</td>\n",
       "      <td>132.0</td>\n",
       "      <td>115.0</td>\n",
       "      <td>129.0</td>\n",
       "      <td>130.0</td>\n",
       "      <td>113.0</td>\n",
       "      <td>127.0</td>\n",
       "    </tr>\n",
       "    <tr>\n",
       "      <th>1400</th>\n",
       "      <td>0.0</td>\n",
       "      <td>95.0</td>\n",
       "      <td>106.0</td>\n",
       "      <td>134.0</td>\n",
       "      <td>99.0</td>\n",
       "      <td>110.0</td>\n",
       "      <td>138.0</td>\n",
       "      <td>79.0</td>\n",
       "      <td>90.0</td>\n",
       "      <td>118.0</td>\n",
       "      <td>...</td>\n",
       "      <td>148.0</td>\n",
       "      <td>140.0</td>\n",
       "      <td>150.0</td>\n",
       "      <td>168.0</td>\n",
       "      <td>151.0</td>\n",
       "      <td>161.0</td>\n",
       "      <td>179.0</td>\n",
       "      <td>137.0</td>\n",
       "      <td>147.0</td>\n",
       "      <td>165.0</td>\n",
       "    </tr>\n",
       "    <tr>\n",
       "      <th>1493</th>\n",
       "      <td>0.0</td>\n",
       "      <td>137.0</td>\n",
       "      <td>124.0</td>\n",
       "      <td>132.0</td>\n",
       "      <td>141.0</td>\n",
       "      <td>128.0</td>\n",
       "      <td>136.0</td>\n",
       "      <td>146.0</td>\n",
       "      <td>133.0</td>\n",
       "      <td>141.0</td>\n",
       "      <td>...</td>\n",
       "      <td>91.0</td>\n",
       "      <td>104.0</td>\n",
       "      <td>98.0</td>\n",
       "      <td>115.0</td>\n",
       "      <td>75.0</td>\n",
       "      <td>69.0</td>\n",
       "      <td>86.0</td>\n",
       "      <td>102.0</td>\n",
       "      <td>96.0</td>\n",
       "      <td>113.0</td>\n",
       "    </tr>\n",
       "    <tr>\n",
       "      <th>1129</th>\n",
       "      <td>0.0</td>\n",
       "      <td>151.0</td>\n",
       "      <td>130.0</td>\n",
       "      <td>138.0</td>\n",
       "      <td>146.0</td>\n",
       "      <td>125.0</td>\n",
       "      <td>133.0</td>\n",
       "      <td>144.0</td>\n",
       "      <td>123.0</td>\n",
       "      <td>131.0</td>\n",
       "      <td>...</td>\n",
       "      <td>106.0</td>\n",
       "      <td>121.0</td>\n",
       "      <td>100.0</td>\n",
       "      <td>109.0</td>\n",
       "      <td>122.0</td>\n",
       "      <td>101.0</td>\n",
       "      <td>110.0</td>\n",
       "      <td>119.0</td>\n",
       "      <td>98.0</td>\n",
       "      <td>107.0</td>\n",
       "    </tr>\n",
       "    <tr>\n",
       "      <th>2085</th>\n",
       "      <td>0.0</td>\n",
       "      <td>106.0</td>\n",
       "      <td>106.0</td>\n",
       "      <td>106.0</td>\n",
       "      <td>106.0</td>\n",
       "      <td>106.0</td>\n",
       "      <td>106.0</td>\n",
       "      <td>106.0</td>\n",
       "      <td>106.0</td>\n",
       "      <td>106.0</td>\n",
       "      <td>...</td>\n",
       "      <td>147.0</td>\n",
       "      <td>153.0</td>\n",
       "      <td>156.0</td>\n",
       "      <td>154.0</td>\n",
       "      <td>155.0</td>\n",
       "      <td>158.0</td>\n",
       "      <td>156.0</td>\n",
       "      <td>155.0</td>\n",
       "      <td>158.0</td>\n",
       "      <td>156.0</td>\n",
       "    </tr>\n",
       "    <tr>\n",
       "      <th>...</th>\n",
       "      <td>...</td>\n",
       "      <td>...</td>\n",
       "      <td>...</td>\n",
       "      <td>...</td>\n",
       "      <td>...</td>\n",
       "      <td>...</td>\n",
       "      <td>...</td>\n",
       "      <td>...</td>\n",
       "      <td>...</td>\n",
       "      <td>...</td>\n",
       "      <td>...</td>\n",
       "      <td>...</td>\n",
       "      <td>...</td>\n",
       "      <td>...</td>\n",
       "      <td>...</td>\n",
       "      <td>...</td>\n",
       "      <td>...</td>\n",
       "      <td>...</td>\n",
       "      <td>...</td>\n",
       "      <td>...</td>\n",
       "      <td>...</td>\n",
       "    </tr>\n",
       "    <tr>\n",
       "      <th>77</th>\n",
       "      <td>0.0</td>\n",
       "      <td>122.0</td>\n",
       "      <td>122.0</td>\n",
       "      <td>136.0</td>\n",
       "      <td>107.0</td>\n",
       "      <td>107.0</td>\n",
       "      <td>121.0</td>\n",
       "      <td>112.0</td>\n",
       "      <td>112.0</td>\n",
       "      <td>126.0</td>\n",
       "      <td>...</td>\n",
       "      <td>157.0</td>\n",
       "      <td>148.0</td>\n",
       "      <td>143.0</td>\n",
       "      <td>158.0</td>\n",
       "      <td>150.0</td>\n",
       "      <td>145.0</td>\n",
       "      <td>160.0</td>\n",
       "      <td>152.0</td>\n",
       "      <td>147.0</td>\n",
       "      <td>162.0</td>\n",
       "    </tr>\n",
       "    <tr>\n",
       "      <th>1358</th>\n",
       "      <td>0.0</td>\n",
       "      <td>171.0</td>\n",
       "      <td>159.0</td>\n",
       "      <td>165.0</td>\n",
       "      <td>162.0</td>\n",
       "      <td>150.0</td>\n",
       "      <td>156.0</td>\n",
       "      <td>177.0</td>\n",
       "      <td>165.0</td>\n",
       "      <td>171.0</td>\n",
       "      <td>...</td>\n",
       "      <td>141.0</td>\n",
       "      <td>103.0</td>\n",
       "      <td>98.0</td>\n",
       "      <td>113.0</td>\n",
       "      <td>133.0</td>\n",
       "      <td>128.0</td>\n",
       "      <td>143.0</td>\n",
       "      <td>127.0</td>\n",
       "      <td>122.0</td>\n",
       "      <td>137.0</td>\n",
       "    </tr>\n",
       "    <tr>\n",
       "      <th>2728</th>\n",
       "      <td>1.0</td>\n",
       "      <td>125.0</td>\n",
       "      <td>115.0</td>\n",
       "      <td>127.0</td>\n",
       "      <td>106.0</td>\n",
       "      <td>96.0</td>\n",
       "      <td>108.0</td>\n",
       "      <td>140.0</td>\n",
       "      <td>130.0</td>\n",
       "      <td>142.0</td>\n",
       "      <td>...</td>\n",
       "      <td>140.0</td>\n",
       "      <td>185.0</td>\n",
       "      <td>167.0</td>\n",
       "      <td>174.0</td>\n",
       "      <td>144.0</td>\n",
       "      <td>126.0</td>\n",
       "      <td>133.0</td>\n",
       "      <td>161.0</td>\n",
       "      <td>143.0</td>\n",
       "      <td>150.0</td>\n",
       "    </tr>\n",
       "    <tr>\n",
       "      <th>166</th>\n",
       "      <td>0.0</td>\n",
       "      <td>169.0</td>\n",
       "      <td>169.0</td>\n",
       "      <td>175.0</td>\n",
       "      <td>167.0</td>\n",
       "      <td>167.0</td>\n",
       "      <td>173.0</td>\n",
       "      <td>165.0</td>\n",
       "      <td>165.0</td>\n",
       "      <td>171.0</td>\n",
       "      <td>...</td>\n",
       "      <td>118.0</td>\n",
       "      <td>104.0</td>\n",
       "      <td>105.0</td>\n",
       "      <td>119.0</td>\n",
       "      <td>106.0</td>\n",
       "      <td>107.0</td>\n",
       "      <td>121.0</td>\n",
       "      <td>109.0</td>\n",
       "      <td>110.0</td>\n",
       "      <td>124.0</td>\n",
       "    </tr>\n",
       "    <tr>\n",
       "      <th>3087</th>\n",
       "      <td>1.0</td>\n",
       "      <td>238.0</td>\n",
       "      <td>216.0</td>\n",
       "      <td>218.0</td>\n",
       "      <td>127.0</td>\n",
       "      <td>105.0</td>\n",
       "      <td>107.0</td>\n",
       "      <td>113.0</td>\n",
       "      <td>91.0</td>\n",
       "      <td>93.0</td>\n",
       "      <td>...</td>\n",
       "      <td>80.0</td>\n",
       "      <td>106.0</td>\n",
       "      <td>88.0</td>\n",
       "      <td>95.0</td>\n",
       "      <td>95.0</td>\n",
       "      <td>77.0</td>\n",
       "      <td>84.0</td>\n",
       "      <td>121.0</td>\n",
       "      <td>103.0</td>\n",
       "      <td>110.0</td>\n",
       "    </tr>\n",
       "  </tbody>\n",
       "</table>\n",
       "<p>3250 rows × 196609 columns</p>\n",
       "</div>"
      ],
      "text/plain": [
       "      0       1       2       3       4       5       6       7       8       \\\n",
       "1823     0.0   137.0   118.0   133.0   134.0   115.0   130.0   101.0    82.0   \n",
       "1400     0.0    95.0   106.0   134.0    99.0   110.0   138.0    79.0    90.0   \n",
       "1493     0.0   137.0   124.0   132.0   141.0   128.0   136.0   146.0   133.0   \n",
       "1129     0.0   151.0   130.0   138.0   146.0   125.0   133.0   144.0   123.0   \n",
       "2085     0.0   106.0   106.0   106.0   106.0   106.0   106.0   106.0   106.0   \n",
       "...      ...     ...     ...     ...     ...     ...     ...     ...     ...   \n",
       "77       0.0   122.0   122.0   136.0   107.0   107.0   121.0   112.0   112.0   \n",
       "1358     0.0   171.0   159.0   165.0   162.0   150.0   156.0   177.0   165.0   \n",
       "2728     1.0   125.0   115.0   127.0   106.0    96.0   108.0   140.0   130.0   \n",
       "166      0.0   169.0   169.0   175.0   167.0   167.0   173.0   165.0   165.0   \n",
       "3087     1.0   238.0   216.0   218.0   127.0   105.0   107.0   113.0    91.0   \n",
       "\n",
       "      9       ...  196599  196600  196601  196602  196603  196604  196605  \\\n",
       "1823    97.0  ...   132.0   134.0   117.0   131.0   132.0   115.0   129.0   \n",
       "1400   118.0  ...   148.0   140.0   150.0   168.0   151.0   161.0   179.0   \n",
       "1493   141.0  ...    91.0   104.0    98.0   115.0    75.0    69.0    86.0   \n",
       "1129   131.0  ...   106.0   121.0   100.0   109.0   122.0   101.0   110.0   \n",
       "2085   106.0  ...   147.0   153.0   156.0   154.0   155.0   158.0   156.0   \n",
       "...      ...  ...     ...     ...     ...     ...     ...     ...     ...   \n",
       "77     126.0  ...   157.0   148.0   143.0   158.0   150.0   145.0   160.0   \n",
       "1358   171.0  ...   141.0   103.0    98.0   113.0   133.0   128.0   143.0   \n",
       "2728   142.0  ...   140.0   185.0   167.0   174.0   144.0   126.0   133.0   \n",
       "166    171.0  ...   118.0   104.0   105.0   119.0   106.0   107.0   121.0   \n",
       "3087    93.0  ...    80.0   106.0    88.0    95.0    95.0    77.0    84.0   \n",
       "\n",
       "      196606  196607  196608  \n",
       "1823   130.0   113.0   127.0  \n",
       "1400   137.0   147.0   165.0  \n",
       "1493   102.0    96.0   113.0  \n",
       "1129   119.0    98.0   107.0  \n",
       "2085   155.0   158.0   156.0  \n",
       "...      ...     ...     ...  \n",
       "77     152.0   147.0   162.0  \n",
       "1358   127.0   122.0   137.0  \n",
       "2728   161.0   143.0   150.0  \n",
       "166    109.0   110.0   124.0  \n",
       "3087   121.0   103.0   110.0  \n",
       "\n",
       "[3250 rows x 196609 columns]"
      ]
     },
     "execution_count": 10,
     "metadata": {},
     "output_type": "execute_result"
    }
   ],
   "source": [
    "Data_pd = pd.DataFrame(Data.T)\n",
    "Data_pd = Data_pd.sample(frac = 1)\n",
    "Data_pd"
   ]
  },
  {
   "cell_type": "markdown",
   "id": "3016af91",
   "metadata": {},
   "source": [
    "Convert the shuffled dataset back into a numpy array:"
   ]
  },
  {
   "cell_type": "code",
   "execution_count": 11,
   "id": "0b4dca1f",
   "metadata": {},
   "outputs": [],
   "source": [
    "Data_shuffled = Data_pd.to_numpy()\n",
    "Data_shuffled = Data_shuffled.T"
   ]
  },
  {
   "cell_type": "markdown",
   "id": "3b9c0857",
   "metadata": {},
   "source": [
    "### Save the Dataset:"
   ]
  },
  {
   "cell_type": "code",
   "execution_count": 12,
   "id": "bbd41466",
   "metadata": {},
   "outputs": [],
   "source": [
    "np.save(\"tomato_data_1000yes_2250no\", Data_shuffled)"
   ]
  }
 ],
 "metadata": {
  "kernelspec": {
   "display_name": "DL",
   "language": "python",
   "name": "dl"
  },
  "language_info": {
   "codemirror_mode": {
    "name": "ipython",
    "version": 3
   },
   "file_extension": ".py",
   "mimetype": "text/x-python",
   "name": "python",
   "nbconvert_exporter": "python",
   "pygments_lexer": "ipython3",
   "version": "3.8.8"
  }
 },
 "nbformat": 4,
 "nbformat_minor": 5
}
